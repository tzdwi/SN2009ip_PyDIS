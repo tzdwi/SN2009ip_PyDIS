{
 "cells": [
  {
   "cell_type": "code",
   "execution_count": 8,
   "metadata": {
    "collapsed": false
   },
   "outputs": [
    {
     "name": "stdout",
     "output_type": "stream",
     "text": [
      "BD25d4655.0168b.fits SN2009ip.0167r.fits  bias-low.0015b.fits\r\n",
      "BD25d4655.0168r.fits arc30s.0010b.fits    bias-low.0015r.fits\r\n",
      "PyDIS Practice.ipynb arc30s.0010r.fits    bias-low.0016b.fits\r\n",
      "README.txt           arc30s.0011b.fits    bias-low.0016r.fits\r\n",
      "SN2009ip.0165b.fits  arc30s.0011r.fits    bias-low.0017b.fits\r\n",
      "SN2009ip.0165r.fits  arc30s.0012b.fits    bias-low.0017r.fits\r\n",
      "SN2009ip.0166b.fits  arc30s.0012r.fits    bias-low.0018b.fits\r\n",
      "SN2009ip.0166r.fits  bias-low.0014b.fits  bias-low.0018r.fits\r\n",
      "SN2009ip.0167b.fits  bias-low.0014r.fits  r300flat.0013r.fits\r\n"
     ]
    }
   ],
   "source": [
    "!ls"
   ]
  },
  {
   "cell_type": "code",
   "execution_count": 30,
   "metadata": {
    "collapsed": true
   },
   "outputs": [],
   "source": [
    "!ls r300* > rflat.txt\n",
    "!ls bias*b.fits > bbias.txt\n",
    "!ls bias*r.fits > rbias.txt"
   ]
  },
  {
   "cell_type": "code",
   "execution_count": 3,
   "metadata": {
    "collapsed": true
   },
   "outputs": [],
   "source": [
    "import pydis"
   ]
  },
  {
   "cell_type": "code",
   "execution_count": 47,
   "metadata": {
    "collapsed": false
   },
   "outputs": [],
   "source": [
    "#Let's reduce the red channel first! \n",
    "#Start with biases and flats\n",
    "\n",
    "rbias = pydis.biascombine('rbias.txt', trim=True)\n",
    "\n",
    "flat, fmask_out = pydis.flatcombine('rflat.txt', rbias, trim=True, mode='spline', response=True, display=True)\n",
    "#First observation: with only one flat in the list, when pyDIS tries to read it, it can't tell the length of the resulting array\n",
    "#Obviously with one flat image, we don't need to flatcombine, but I'm just using it as a shorthand for \n",
    "#from astropy.io import fits\n",
    "#foo = fits.open(image)\n",
    "#flat = foo[0].data"
   ]
  },
  {
   "cell_type": "markdown",
   "metadata": {},
   "source": [
    "# To do:\n",
    "# 1. HeNeAr solutions for all arc*.r.fits images\n",
    "# 2. Reduce Science images\n",
    "# 3. Find and trace spectrum\n",
    "# 4. Calibrate spectrum\n",
    "# 5. Flux calibration\n",
    "# 6. Make it work with the autoreduce function"
   ]
  },
  {
   "cell_type": "code",
   "execution_count": null,
   "metadata": {
    "collapsed": true
   },
   "outputs": [],
   "source": []
  }
 ],
 "metadata": {
  "kernelspec": {
   "display_name": "Python 2",
   "language": "python",
   "name": "python2"
  },
  "language_info": {
   "codemirror_mode": {
    "name": "ipython",
    "version": 2
   },
   "file_extension": ".py",
   "mimetype": "text/x-python",
   "name": "python",
   "nbconvert_exporter": "python",
   "pygments_lexer": "ipython2",
   "version": "2.7.11"
  }
 },
 "nbformat": 4,
 "nbformat_minor": 0
}
